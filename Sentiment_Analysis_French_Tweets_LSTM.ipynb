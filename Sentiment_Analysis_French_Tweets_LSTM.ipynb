{
 "cells": [
  {
   "cell_type": "markdown",
   "metadata": {
    "id": "7w7SrrX4ileI"
   },
   "source": [
    "# Sentiment Analysis of French Tweets"
   ]
  },
  {
   "cell_type": "markdown",
   "metadata": {
    "id": "_LRJXKc8ID9i"
   },
   "source": [
    "The task in this project is to develop a machine learning model to classify tweets in french language. One of the challenges here is to deal with particularities of the french language which is not part of the default setting of most ML libraries."
   ]
  },
  {
   "cell_type": "markdown",
   "metadata": {
    "id": "5Aec5iJUJQ_h"
   },
   "source": [
    "The dataset consists of text from tweets in french and integer where 1 represents positive sentiment and 0 represents negative sentiment. The dataset file contains around 1.5 millions tweets. In this project the dataset is reduced to 400 000 samples to deal with the RAM limitations. "
   ]
  },
  {
   "cell_type": "markdown",
   "metadata": {
    "id": "QHVN1PVfibom"
   },
   "source": [
    "## Modules import and downloads"
   ]
  },
  {
   "cell_type": "code",
   "execution_count": 1,
   "metadata": {
    "colab": {
     "base_uri": "https://localhost:8080/"
    },
    "id": "QNACn_6WGAsB",
    "outputId": "4420dc4f-8344-4099-a48e-603b68dd9dbe"
   },
   "outputs": [
    {
     "name": "stdout",
     "output_type": "stream",
     "text": [
      "Drive already mounted at /content/drive; to attempt to forcibly remount, call drive.mount(\"/content/drive\", force_remount=True).\n"
     ]
    }
   ],
   "source": [
    "from google.colab import drive\n",
    "drive.mount('/content/drive')"
   ]
  },
  {
   "cell_type": "code",
   "execution_count": 2,
   "metadata": {
    "id": "MTLlhQ8BWc1_"
   },
   "outputs": [],
   "source": [
    "import numpy as np\n",
    "import pandas as pd \n",
    "from matplotlib import pyplot as plt \n",
    "\n",
    "import os\n",
    "import collections\n",
    "\n",
    "import tensorflow as tf\n",
    "from tensorflow.keras.preprocessing.text import Tokenizer\n",
    "from tensorflow.keras.preprocessing.sequence import pad_sequences\n",
    "from tensorflow.keras.models import Model, Sequential\n",
    "from tensorflow.keras.layers import GRU, Input, Dense, Embedding, Activation, Bidirectional, Dropout, LSTM\n",
    "\n",
    "from sklearn.model_selection import train_test_split\n",
    "import string\n",
    "import gc\n",
    "from keras.utils import plot_model"
   ]
  },
  {
   "cell_type": "code",
   "execution_count": 3,
   "metadata": {
    "id": "EAP-QTd8pgTR"
   },
   "outputs": [],
   "source": [
    "!pip install git+https://github.com/ClaudeCoulombe/FrenchLefffLemmatizer.git &> /dev/null"
   ]
  },
  {
   "cell_type": "code",
   "execution_count": 4,
   "metadata": {
    "colab": {
     "base_uri": "https://localhost:8080/"
    },
    "id": "xzxiMy2VpsSo",
    "outputId": "503616ed-7069-4ef7-b3cc-ab2d800cdc03"
   },
   "outputs": [
    {
     "name": "stderr",
     "output_type": "stream",
     "text": [
      "[nltk_data] Downloading package wordnet to /root/nltk_data...\n",
      "[nltk_data]   Package wordnet is already up-to-date!\n",
      "[nltk_data] Downloading package punkt to /root/nltk_data...\n",
      "[nltk_data]   Package punkt is already up-to-date!\n",
      "[nltk_data] Downloading package stopwords to /root/nltk_data...\n",
      "[nltk_data]   Package stopwords is already up-to-date!\n"
     ]
    },
    {
     "data": {
      "text/plain": [
       "True"
      ]
     },
     "execution_count": 4,
     "metadata": {},
     "output_type": "execute_result"
    }
   ],
   "source": [
    "import nltk\n",
    "import string\n",
    "from french_lefff_lemmatizer.french_lefff_lemmatizer import FrenchLefffLemmatizer\n",
    "\n",
    "nltk.download('wordnet')\n",
    "nltk.download('punkt')\n",
    "nltk.download('stopwords')"
   ]
  },
  {
   "cell_type": "code",
   "execution_count": 5,
   "metadata": {
    "id": "Q7BpMpQkpuge"
   },
   "outputs": [],
   "source": [
    "french_stopwords = nltk.corpus.stopwords.words('french')\n",
    "mots = set(line.strip() for line in open('/content/drive/MyDrive/data/dictionnaire.txt'))\n",
    "lemmatizer = FrenchLefffLemmatizer()"
   ]
  },
  {
   "cell_type": "code",
   "execution_count": 5,
   "metadata": {
    "id": "5e7_ETx7psZb"
   },
   "outputs": [],
   "source": []
  },
  {
   "cell_type": "markdown",
   "metadata": {
    "id": "8hJmKmv_hHo6"
   },
   "source": [
    "### ***Load data***"
   ]
  },
  {
   "cell_type": "markdown",
   "metadata": {
    "id": "a9vx4Ot8Kn1q"
   },
   "source": [
    "Dataset has been downloaded from kaggle and stored locally. Only 400000 samples are loaded here."
   ]
  },
  {
   "cell_type": "code",
   "execution_count": 6,
   "metadata": {
    "id": "NU_JOTsEkQDq"
   },
   "outputs": [],
   "source": [
    "df = pd.read_csv(\"/content/drive/MyDrive/datasets/french_tweets.csv\", encoding=\"utf-8\").sample(n=400000, random_state=42)"
   ]
  },
  {
   "cell_type": "code",
   "execution_count": 7,
   "metadata": {
    "colab": {
     "base_uri": "https://localhost:8080/",
     "height": 424
    },
    "id": "vnPfa8ERkQHC",
    "outputId": "78f3b234-d215-441c-b787-9f8c715c7dc3"
   },
   "outputs": [
    {
     "data": {
      "text/html": [
       "\n",
       "  <div id=\"df-c0fa2a1d-4b98-4571-b13d-c68c034fa6d5\">\n",
       "    <div class=\"colab-df-container\">\n",
       "      <div>\n",
       "<style scoped>\n",
       "    .dataframe tbody tr th:only-of-type {\n",
       "        vertical-align: middle;\n",
       "    }\n",
       "\n",
       "    .dataframe tbody tr th {\n",
       "        vertical-align: top;\n",
       "    }\n",
       "\n",
       "    .dataframe thead th {\n",
       "        text-align: right;\n",
       "    }\n",
       "</style>\n",
       "<table border=\"1\" class=\"dataframe\">\n",
       "  <thead>\n",
       "    <tr style=\"text-align: right;\">\n",
       "      <th></th>\n",
       "      <th>label</th>\n",
       "      <th>text</th>\n",
       "    </tr>\n",
       "  </thead>\n",
       "  <tbody>\n",
       "    <tr>\n",
       "      <th>471040</th>\n",
       "      <td>0</td>\n",
       "      <td>El som et la société humaine avec cindy! Je ve...</td>\n",
       "    </tr>\n",
       "    <tr>\n",
       "      <th>1340507</th>\n",
       "      <td>1</td>\n",
       "      <td>Quel beau jour d'été</td>\n",
       "    </tr>\n",
       "    <tr>\n",
       "      <th>757669</th>\n",
       "      <td>0</td>\n",
       "      <td>Déteste assis à l'intérieur quand c'est une be...</td>\n",
       "    </tr>\n",
       "    <tr>\n",
       "      <th>119639</th>\n",
       "      <td>0</td>\n",
       "      <td>Lundi matin même pas le soleil</td>\n",
       "    </tr>\n",
       "    <tr>\n",
       "      <th>1190949</th>\n",
       "      <td>1</td>\n",
       "      <td>La soeur a juste été bronzée: soph: 'what are ...</td>\n",
       "    </tr>\n",
       "    <tr>\n",
       "      <th>...</th>\n",
       "      <td>...</td>\n",
       "      <td>...</td>\n",
       "    </tr>\n",
       "    <tr>\n",
       "      <th>923948</th>\n",
       "      <td>1</td>\n",
       "      <td>Une autre vidéo s'il vous plaît</td>\n",
       "    </tr>\n",
       "    <tr>\n",
       "      <th>174315</th>\n",
       "      <td>0</td>\n",
       "      <td>Whoa - je suis hors de votre boucle</td>\n",
       "    </tr>\n",
       "    <tr>\n",
       "      <th>215766</th>\n",
       "      <td>0</td>\n",
       "      <td>Je viens juste d'acheter des jeux d'occasion d...</td>\n",
       "    </tr>\n",
       "    <tr>\n",
       "      <th>79981</th>\n",
       "      <td>0</td>\n",
       "      <td>Je pense à mon ex. fille. Juillet, je ne peux ...</td>\n",
       "    </tr>\n",
       "    <tr>\n",
       "      <th>1013775</th>\n",
       "      <td>1</td>\n",
       "      <td>Bon après-midi, tout le monde !! Un beau jour ...</td>\n",
       "    </tr>\n",
       "  </tbody>\n",
       "</table>\n",
       "<p>400000 rows × 2 columns</p>\n",
       "</div>\n",
       "      <button class=\"colab-df-convert\" onclick=\"convertToInteractive('df-c0fa2a1d-4b98-4571-b13d-c68c034fa6d5')\"\n",
       "              title=\"Convert this dataframe to an interactive table.\"\n",
       "              style=\"display:none;\">\n",
       "        \n",
       "  <svg xmlns=\"http://www.w3.org/2000/svg\" height=\"24px\"viewBox=\"0 0 24 24\"\n",
       "       width=\"24px\">\n",
       "    <path d=\"M0 0h24v24H0V0z\" fill=\"none\"/>\n",
       "    <path d=\"M18.56 5.44l.94 2.06.94-2.06 2.06-.94-2.06-.94-.94-2.06-.94 2.06-2.06.94zm-11 1L8.5 8.5l.94-2.06 2.06-.94-2.06-.94L8.5 2.5l-.94 2.06-2.06.94zm10 10l.94 2.06.94-2.06 2.06-.94-2.06-.94-.94-2.06-.94 2.06-2.06.94z\"/><path d=\"M17.41 7.96l-1.37-1.37c-.4-.4-.92-.59-1.43-.59-.52 0-1.04.2-1.43.59L10.3 9.45l-7.72 7.72c-.78.78-.78 2.05 0 2.83L4 21.41c.39.39.9.59 1.41.59.51 0 1.02-.2 1.41-.59l7.78-7.78 2.81-2.81c.8-.78.8-2.07 0-2.86zM5.41 20L4 18.59l7.72-7.72 1.47 1.35L5.41 20z\"/>\n",
       "  </svg>\n",
       "      </button>\n",
       "      \n",
       "  <style>\n",
       "    .colab-df-container {\n",
       "      display:flex;\n",
       "      flex-wrap:wrap;\n",
       "      gap: 12px;\n",
       "    }\n",
       "\n",
       "    .colab-df-convert {\n",
       "      background-color: #E8F0FE;\n",
       "      border: none;\n",
       "      border-radius: 50%;\n",
       "      cursor: pointer;\n",
       "      display: none;\n",
       "      fill: #1967D2;\n",
       "      height: 32px;\n",
       "      padding: 0 0 0 0;\n",
       "      width: 32px;\n",
       "    }\n",
       "\n",
       "    .colab-df-convert:hover {\n",
       "      background-color: #E2EBFA;\n",
       "      box-shadow: 0px 1px 2px rgba(60, 64, 67, 0.3), 0px 1px 3px 1px rgba(60, 64, 67, 0.15);\n",
       "      fill: #174EA6;\n",
       "    }\n",
       "\n",
       "    [theme=dark] .colab-df-convert {\n",
       "      background-color: #3B4455;\n",
       "      fill: #D2E3FC;\n",
       "    }\n",
       "\n",
       "    [theme=dark] .colab-df-convert:hover {\n",
       "      background-color: #434B5C;\n",
       "      box-shadow: 0px 1px 3px 1px rgba(0, 0, 0, 0.15);\n",
       "      filter: drop-shadow(0px 1px 2px rgba(0, 0, 0, 0.3));\n",
       "      fill: #FFFFFF;\n",
       "    }\n",
       "  </style>\n",
       "\n",
       "      <script>\n",
       "        const buttonEl =\n",
       "          document.querySelector('#df-c0fa2a1d-4b98-4571-b13d-c68c034fa6d5 button.colab-df-convert');\n",
       "        buttonEl.style.display =\n",
       "          google.colab.kernel.accessAllowed ? 'block' : 'none';\n",
       "\n",
       "        async function convertToInteractive(key) {\n",
       "          const element = document.querySelector('#df-c0fa2a1d-4b98-4571-b13d-c68c034fa6d5');\n",
       "          const dataTable =\n",
       "            await google.colab.kernel.invokeFunction('convertToInteractive',\n",
       "                                                     [key], {});\n",
       "          if (!dataTable) return;\n",
       "\n",
       "          const docLinkHtml = 'Like what you see? Visit the ' +\n",
       "            '<a target=\"_blank\" href=https://colab.research.google.com/notebooks/data_table.ipynb>data table notebook</a>'\n",
       "            + ' to learn more about interactive tables.';\n",
       "          element.innerHTML = '';\n",
       "          dataTable['output_type'] = 'display_data';\n",
       "          await google.colab.output.renderOutput(dataTable, element);\n",
       "          const docLink = document.createElement('div');\n",
       "          docLink.innerHTML = docLinkHtml;\n",
       "          element.appendChild(docLink);\n",
       "        }\n",
       "      </script>\n",
       "    </div>\n",
       "  </div>\n",
       "  "
      ],
      "text/plain": [
       "         label                                               text\n",
       "471040       0  El som et la société humaine avec cindy! Je ve...\n",
       "1340507      1                               Quel beau jour d'été\n",
       "757669       0  Déteste assis à l'intérieur quand c'est une be...\n",
       "119639       0                     Lundi matin même pas le soleil\n",
       "1190949      1  La soeur a juste été bronzée: soph: 'what are ...\n",
       "...        ...                                                ...\n",
       "923948       1                    Une autre vidéo s'il vous plaît\n",
       "174315       0                Whoa - je suis hors de votre boucle\n",
       "215766       0  Je viens juste d'acheter des jeux d'occasion d...\n",
       "79981        0  Je pense à mon ex. fille. Juillet, je ne peux ...\n",
       "1013775      1  Bon après-midi, tout le monde !! Un beau jour ...\n",
       "\n",
       "[400000 rows x 2 columns]"
      ]
     },
     "execution_count": 7,
     "metadata": {},
     "output_type": "execute_result"
    }
   ],
   "source": [
    "df"
   ]
  },
  {
   "cell_type": "code",
   "execution_count": 8,
   "metadata": {
    "colab": {
     "base_uri": "https://localhost:8080/",
     "height": 424
    },
    "id": "FJt8CjfqkipG",
    "outputId": "032b36ee-50b7-4ea5-f7df-00e3435c4f68"
   },
   "outputs": [
    {
     "data": {
      "text/html": [
       "\n",
       "  <div id=\"df-31b60c4f-fc17-4a77-9bdc-6263f8e029d9\">\n",
       "    <div class=\"colab-df-container\">\n",
       "      <div>\n",
       "<style scoped>\n",
       "    .dataframe tbody tr th:only-of-type {\n",
       "        vertical-align: middle;\n",
       "    }\n",
       "\n",
       "    .dataframe tbody tr th {\n",
       "        vertical-align: top;\n",
       "    }\n",
       "\n",
       "    .dataframe thead th {\n",
       "        text-align: right;\n",
       "    }\n",
       "</style>\n",
       "<table border=\"1\" class=\"dataframe\">\n",
       "  <thead>\n",
       "    <tr style=\"text-align: right;\">\n",
       "      <th></th>\n",
       "      <th>label</th>\n",
       "      <th>text</th>\n",
       "    </tr>\n",
       "  </thead>\n",
       "  <tbody>\n",
       "    <tr>\n",
       "      <th>1340507</th>\n",
       "      <td>1</td>\n",
       "      <td>Quel beau jour d'été</td>\n",
       "    </tr>\n",
       "    <tr>\n",
       "      <th>1190949</th>\n",
       "      <td>1</td>\n",
       "      <td>La soeur a juste été bronzée: soph: 'what are ...</td>\n",
       "    </tr>\n",
       "    <tr>\n",
       "      <th>1467338</th>\n",
       "      <td>1</td>\n",
       "      <td>Vient de poster un nouveau blog, vérifiez-le à...</td>\n",
       "    </tr>\n",
       "    <tr>\n",
       "      <th>1499685</th>\n",
       "      <td>1</td>\n",
       "      <td>aller au lit. Aujourd'hui ... suce.</td>\n",
       "    </tr>\n",
       "    <tr>\n",
       "      <th>1121979</th>\n",
       "      <td>1</td>\n",
       "      <td>Tweet nous tous ?? y compris moi  ? J'espère</td>\n",
       "    </tr>\n",
       "    <tr>\n",
       "      <th>...</th>\n",
       "      <td>...</td>\n",
       "      <td>...</td>\n",
       "    </tr>\n",
       "    <tr>\n",
       "      <th>1137974</th>\n",
       "      <td>1</td>\n",
       "      <td>Oui, elle est comme Miley, elle ne répond jama...</td>\n",
       "    </tr>\n",
       "    <tr>\n",
       "      <th>962573</th>\n",
       "      <td>1</td>\n",
       "      <td>Félicitations à mon petit sis! Si fière d'elle...</td>\n",
       "    </tr>\n",
       "    <tr>\n",
       "      <th>1238299</th>\n",
       "      <td>1</td>\n",
       "      <td>Vous avez seulement deux pieds, mais vous ne p...</td>\n",
       "    </tr>\n",
       "    <tr>\n",
       "      <th>923948</th>\n",
       "      <td>1</td>\n",
       "      <td>Une autre vidéo s'il vous plaît</td>\n",
       "    </tr>\n",
       "    <tr>\n",
       "      <th>1013775</th>\n",
       "      <td>1</td>\n",
       "      <td>Bon après-midi, tout le monde !! Un beau jour ...</td>\n",
       "    </tr>\n",
       "  </tbody>\n",
       "</table>\n",
       "<p>197901 rows × 2 columns</p>\n",
       "</div>\n",
       "      <button class=\"colab-df-convert\" onclick=\"convertToInteractive('df-31b60c4f-fc17-4a77-9bdc-6263f8e029d9')\"\n",
       "              title=\"Convert this dataframe to an interactive table.\"\n",
       "              style=\"display:none;\">\n",
       "        \n",
       "  <svg xmlns=\"http://www.w3.org/2000/svg\" height=\"24px\"viewBox=\"0 0 24 24\"\n",
       "       width=\"24px\">\n",
       "    <path d=\"M0 0h24v24H0V0z\" fill=\"none\"/>\n",
       "    <path d=\"M18.56 5.44l.94 2.06.94-2.06 2.06-.94-2.06-.94-.94-2.06-.94 2.06-2.06.94zm-11 1L8.5 8.5l.94-2.06 2.06-.94-2.06-.94L8.5 2.5l-.94 2.06-2.06.94zm10 10l.94 2.06.94-2.06 2.06-.94-2.06-.94-.94-2.06-.94 2.06-2.06.94z\"/><path d=\"M17.41 7.96l-1.37-1.37c-.4-.4-.92-.59-1.43-.59-.52 0-1.04.2-1.43.59L10.3 9.45l-7.72 7.72c-.78.78-.78 2.05 0 2.83L4 21.41c.39.39.9.59 1.41.59.51 0 1.02-.2 1.41-.59l7.78-7.78 2.81-2.81c.8-.78.8-2.07 0-2.86zM5.41 20L4 18.59l7.72-7.72 1.47 1.35L5.41 20z\"/>\n",
       "  </svg>\n",
       "      </button>\n",
       "      \n",
       "  <style>\n",
       "    .colab-df-container {\n",
       "      display:flex;\n",
       "      flex-wrap:wrap;\n",
       "      gap: 12px;\n",
       "    }\n",
       "\n",
       "    .colab-df-convert {\n",
       "      background-color: #E8F0FE;\n",
       "      border: none;\n",
       "      border-radius: 50%;\n",
       "      cursor: pointer;\n",
       "      display: none;\n",
       "      fill: #1967D2;\n",
       "      height: 32px;\n",
       "      padding: 0 0 0 0;\n",
       "      width: 32px;\n",
       "    }\n",
       "\n",
       "    .colab-df-convert:hover {\n",
       "      background-color: #E2EBFA;\n",
       "      box-shadow: 0px 1px 2px rgba(60, 64, 67, 0.3), 0px 1px 3px 1px rgba(60, 64, 67, 0.15);\n",
       "      fill: #174EA6;\n",
       "    }\n",
       "\n",
       "    [theme=dark] .colab-df-convert {\n",
       "      background-color: #3B4455;\n",
       "      fill: #D2E3FC;\n",
       "    }\n",
       "\n",
       "    [theme=dark] .colab-df-convert:hover {\n",
       "      background-color: #434B5C;\n",
       "      box-shadow: 0px 1px 3px 1px rgba(0, 0, 0, 0.15);\n",
       "      filter: drop-shadow(0px 1px 2px rgba(0, 0, 0, 0.3));\n",
       "      fill: #FFFFFF;\n",
       "    }\n",
       "  </style>\n",
       "\n",
       "      <script>\n",
       "        const buttonEl =\n",
       "          document.querySelector('#df-31b60c4f-fc17-4a77-9bdc-6263f8e029d9 button.colab-df-convert');\n",
       "        buttonEl.style.display =\n",
       "          google.colab.kernel.accessAllowed ? 'block' : 'none';\n",
       "\n",
       "        async function convertToInteractive(key) {\n",
       "          const element = document.querySelector('#df-31b60c4f-fc17-4a77-9bdc-6263f8e029d9');\n",
       "          const dataTable =\n",
       "            await google.colab.kernel.invokeFunction('convertToInteractive',\n",
       "                                                     [key], {});\n",
       "          if (!dataTable) return;\n",
       "\n",
       "          const docLinkHtml = 'Like what you see? Visit the ' +\n",
       "            '<a target=\"_blank\" href=https://colab.research.google.com/notebooks/data_table.ipynb>data table notebook</a>'\n",
       "            + ' to learn more about interactive tables.';\n",
       "          element.innerHTML = '';\n",
       "          dataTable['output_type'] = 'display_data';\n",
       "          await google.colab.output.renderOutput(dataTable, element);\n",
       "          const docLink = document.createElement('div');\n",
       "          docLink.innerHTML = docLinkHtml;\n",
       "          element.appendChild(docLink);\n",
       "        }\n",
       "      </script>\n",
       "    </div>\n",
       "  </div>\n",
       "  "
      ],
      "text/plain": [
       "         label                                               text\n",
       "1340507      1                               Quel beau jour d'été\n",
       "1190949      1  La soeur a juste été bronzée: soph: 'what are ...\n",
       "1467338      1  Vient de poster un nouveau blog, vérifiez-le à...\n",
       "1499685      1                aller au lit. Aujourd'hui ... suce.\n",
       "1121979      1       Tweet nous tous ?? y compris moi  ? J'espère\n",
       "...        ...                                                ...\n",
       "1137974      1  Oui, elle est comme Miley, elle ne répond jama...\n",
       "962573       1  Félicitations à mon petit sis! Si fière d'elle...\n",
       "1238299      1  Vous avez seulement deux pieds, mais vous ne p...\n",
       "923948       1                    Une autre vidéo s'il vous plaît\n",
       "1013775      1  Bon après-midi, tout le monde !! Un beau jour ...\n",
       "\n",
       "[197901 rows x 2 columns]"
      ]
     },
     "execution_count": 8,
     "metadata": {},
     "output_type": "execute_result"
    }
   ],
   "source": [
    "df[df.label>0]"
   ]
  },
  {
   "cell_type": "code",
   "execution_count": 9,
   "metadata": {
    "colab": {
     "base_uri": "https://localhost:8080/"
    },
    "id": "arVnRlwXkQLA",
    "outputId": "dcdbcbbf-5e02-4ee7-96ed-7c13f956ce6b"
   },
   "outputs": [
    {
     "data": {
      "text/plain": [
       "array([0, 1, 0, ..., 0, 0, 1])"
      ]
     },
     "execution_count": 9,
     "metadata": {},
     "output_type": "execute_result"
    }
   ],
   "source": [
    "df[\"label\"].values"
   ]
  },
  {
   "cell_type": "code",
   "execution_count": 10,
   "metadata": {
    "colab": {
     "base_uri": "https://localhost:8080/"
    },
    "id": "z1CxpYQtWum5",
    "outputId": "e07ea345-a24a-4d5b-8345-2d6e2afee6bf"
   },
   "outputs": [
    {
     "data": {
      "text/plain": [
       "array(['El som et la société humaine avec cindy! Je veux vraiment un chiot ou un chaton',\n",
       "       \"Quel beau jour d'été\",\n",
       "       \"Déteste assis à l'intérieur quand c'est une belle journée\", ...,\n",
       "       \"Je viens juste d'acheter des jeux d'occasion depuis gamestop ... je suis le problème!\",\n",
       "       'Je pense à mon ex. fille. Juillet, je ne peux pas venir plus tôt',\n",
       "       \"Bon après-midi, tout le monde !! Un beau jour à l'extérieur du soleil brille et je suis content d'être en vie\"],\n",
       "      dtype=object)"
      ]
     },
     "execution_count": 10,
     "metadata": {},
     "output_type": "execute_result"
    }
   ],
   "source": [
    "df[\"text\"].values"
   ]
  },
  {
   "cell_type": "markdown",
   "metadata": {
    "id": "o7crWozwhOQ6"
   },
   "source": [
    "## ***Data Preparation***"
   ]
  },
  {
   "cell_type": "code",
   "execution_count": 11,
   "metadata": {
    "id": "j9cHSEbIr44b"
   },
   "outputs": [],
   "source": [
    "french_sentences = list(df[\"text\"].values)\n",
    "labels = list(df[\"label\"].values)"
   ]
  },
  {
   "cell_type": "code",
   "execution_count": 12,
   "metadata": {
    "colab": {
     "base_uri": "https://localhost:8080/"
    },
    "id": "UyeNHGcamrxa",
    "outputId": "c5a426b4-c347-4450-99c4-963c972ad96a"
   },
   "outputs": [
    {
     "data": {
      "text/plain": [
       "(400000, 400000)"
      ]
     },
     "execution_count": 12,
     "metadata": {},
     "output_type": "execute_result"
    }
   ],
   "source": [
    "len(french_sentences), len(labels)"
   ]
  },
  {
   "cell_type": "code",
   "execution_count": 13,
   "metadata": {
    "colab": {
     "base_uri": "https://localhost:8080/"
    },
    "id": "bZSYP5Xs_NzS",
    "outputId": "39a4d0a3-31a1-4ec3-e9ef-bb7655686b6e"
   },
   "outputs": [
    {
     "data": {
      "text/plain": [
       "66"
      ]
     },
     "execution_count": 13,
     "metadata": {},
     "output_type": "execute_result"
    }
   ],
   "source": [
    "del df\n",
    "gc.collect()"
   ]
  },
  {
   "cell_type": "markdown",
   "metadata": {
    "id": "y7LIFfA-hVBD"
   },
   "source": [
    "### Helper functions for data cleaning"
   ]
  },
  {
   "cell_type": "code",
   "execution_count": 14,
   "metadata": {
    "colab": {
     "base_uri": "https://localhost:8080/",
     "height": 35
    },
    "id": "-4dNgEdj3Vev",
    "outputId": "29b00dca-209f-4190-fa5c-a96558b3a54f"
   },
   "outputs": [
    {
     "data": {
      "application/vnd.google.colaboratory.intrinsic+json": {
       "type": "string"
      },
      "text/plain": [
       "'Good Morning How are you'"
      ]
     },
     "execution_count": 14,
     "metadata": {},
     "output_type": "execute_result"
    }
   ],
   "source": [
    "regular_punct = list('!\"#$%&\\()*+,-./:;<=>?@[\\\\]^_`{|}~') #list(string.punctuation)\n",
    "def remove_punctuation(text,punct_list=regular_punct):\n",
    "    for punc in punct_list:\n",
    "        if punc in text:\n",
    "            text = text.replace(punc, ' ')\n",
    "    return text.strip()\n",
    "apostrophe = [\"l'\",\"d'\", \"c'\", \"j'\", \"b'\", \"f'\", \"m'\", \"n'\", \"t'\", \"qu'\", \"s'\"]\n",
    "def remove_apostrophe(text,apo_list=apostrophe):\n",
    "    for ap in apo_list:\n",
    "        if ap in text and text.strip().startswith(ap):\n",
    "            text = text.replace(ap, ' ')\n",
    "    return text.strip()\n",
    "\n",
    "remove_punctuation(\"Good Morning!How are you? \",regular_punct)"
   ]
  },
  {
   "cell_type": "markdown",
   "metadata": {
    "id": "9vQUOqm1hbTz"
   },
   "source": [
    "### Data preprocessing for French language"
   ]
  },
  {
   "cell_type": "code",
   "execution_count": 15,
   "metadata": {
    "id": "zgB3sB-or47T"
   },
   "outputs": [],
   "source": [
    "def preprocess_french(sentences):\n",
    "    preprocess_list = []\n",
    "    for sentence in sentences :\n",
    "        sentence = sentence.lower()\n",
    "        sentence = remove_punctuation(sentence)\n",
    "        sentence_w_num = ''.join(i for i in sentence if not i.isdigit())\n",
    "        tokenize_sentence = nltk.tokenize.word_tokenize(sentence_w_num)\n",
    "        tokenize_sentence = [remove_apostrophe(w.strip()) for w in tokenize_sentence]\n",
    "        sentence_clean = [w.strip() for w in tokenize_sentence if w.strip() not in french_stopwords]\n",
    "        #sentence_clean = [w for w in sentence_clean if w.isalpha()]\n",
    "        #words_lemmatize = (lemmatizer.lemmatize(w) for w in words_w_stopwords)\n",
    "        sentence_clean = ' '.join(sentence_clean)\n",
    "        preprocess_list.append(sentence_clean)\n",
    "    return preprocess_list"
   ]
  },
  {
   "cell_type": "markdown",
   "metadata": {
    "id": "viRmJTp0htHb"
   },
   "source": [
    "### Data preprocessing: Cleaning, Tokenization, Padding"
   ]
  },
  {
   "cell_type": "code",
   "execution_count": 118,
   "metadata": {
    "id": "YCDzOtB90rTB"
   },
   "outputs": [],
   "source": [
    "vocab_size = 10000\n",
    "max_len = 30\n",
    "\n",
    "def preprocess(sentences, max_len=30):\n",
    "    input_sentences = preprocess_french(sentences)\n",
    "    print(input_sentences[1])\n",
    "    #in_tokenizer = Tokenizer(filters='',oov_token = \"<OOV>\", num_words = vocab_size)\n",
    "    in_tokenizer = Tokenizer(filters='', num_words = vocab_size)\n",
    "    in_tokenizer.fit_on_texts(input_sentences)\n",
    "    input_sequences = in_tokenizer.texts_to_sequences(input_sentences)\n",
    "    print(input_sequences[1])\n",
    "    ## Text padding\n",
    "    pad_input_sequences = pad_sequences(input_sequences, maxlen=max_len, padding='post', truncating=\"post\") \n",
    "    print(pad_input_sequences[1])\n",
    "    input_vocab_size = min(vocab_size, len(in_tokenizer.word_index))\n",
    "    print(\"input_vocab_size: \", input_vocab_size)\n",
    "    return pad_input_sequences, input_vocab_size, in_tokenizer.word_index"
   ]
  },
  {
   "cell_type": "code",
   "execution_count": 119,
   "metadata": {
    "id": "t3ZdK8OPZpnH"
   },
   "outputs": [],
   "source": [
    "\n",
    "def get_tokenizer(sentences):\n",
    "    input_sentences = preprocess_french(sentences)\n",
    "    in_tokenizer = Tokenizer(filters='', num_words = vocab_size)\n",
    "    ##in_tokenizer = Tokenizer(filters='',oov_token = \"<OOV>\", num_words = vocab_size)\n",
    "    in_tokenizer.fit_on_texts(input_sentences)\n",
    "    return in_tokenizer"
   ]
  },
  {
   "cell_type": "code",
   "execution_count": 17,
   "metadata": {
    "id": "S93c-aSYZ_b3"
   },
   "outputs": [],
   "source": []
  },
  {
   "cell_type": "code",
   "execution_count": 120,
   "metadata": {
    "colab": {
     "base_uri": "https://localhost:8080/"
    },
    "id": "cztEf-tB-5Jh",
    "outputId": "17c55b44-8897-437c-d9d2-7469ac3ebd74"
   },
   "outputs": [
    {
     "name": "stdout",
     "output_type": "stream",
     "text": [
      "quel beau jour\n",
      "[189, 304, 20]\n",
      "[189 304  20   0   0   0   0   0   0   0   0   0   0   0   0   0   0   0\n",
      "   0   0   0   0   0   0   0   0   0   0   0   0]\n",
      "input_vocab_size:  10000\n"
     ]
    }
   ],
   "source": [
    "pad_input_sequences, vocab_size, word_index = preprocess(french_sentences,max_len=30)"
   ]
  },
  {
   "cell_type": "code",
   "execution_count": 121,
   "metadata": {
    "colab": {
     "base_uri": "https://localhost:8080/"
    },
    "id": "3lBvMITaJXld",
    "outputId": "c3644ae1-24c6-4810-a950-2cb8cdbb68dd"
   },
   "outputs": [
    {
     "data": {
      "text/plain": [
       "array([189, 304,  20,   0,   0,   0,   0,   0,   0,   0,   0,   0,   0,\n",
       "         0,   0,   0,   0,   0,   0,   0,   0,   0,   0,   0,   0,   0,\n",
       "         0,   0,   0,   0], dtype=int32)"
      ]
     },
     "execution_count": 121,
     "metadata": {},
     "output_type": "execute_result"
    }
   ],
   "source": [
    "pad_input_sequences[1]"
   ]
  },
  {
   "cell_type": "code",
   "execution_count": 122,
   "metadata": {
    "colab": {
     "base_uri": "https://localhost:8080/"
    },
    "id": "q0d8HdneJbNH",
    "outputId": "98bf70b3-f9d7-4141-96c6-0e6a63da1235"
   },
   "outputs": [
    {
     "data": {
      "text/plain": [
       "10000"
      ]
     },
     "execution_count": 122,
     "metadata": {},
     "output_type": "execute_result"
    }
   ],
   "source": [
    "vocab_size"
   ]
  },
  {
   "cell_type": "code",
   "execution_count": 123,
   "metadata": {
    "colab": {
     "base_uri": "https://localhost:8080/"
    },
    "id": "uCA9zhr_A90R",
    "outputId": "f6f04d8e-c555-4cdc-9336-2bbac9bf7840"
   },
   "outputs": [
    {
     "data": {
      "text/plain": [
       "(400000, 30)"
      ]
     },
     "execution_count": 123,
     "metadata": {},
     "output_type": "execute_result"
    }
   ],
   "source": [
    "pad_input_sequences.shape"
   ]
  },
  {
   "cell_type": "markdown",
   "metadata": {
    "id": "kStR5LLKLXYZ"
   },
   "source": [
    "## ***Model Development***"
   ]
  },
  {
   "cell_type": "markdown",
   "metadata": {
    "id": "eeigxQYEh4Bx"
   },
   "source": [
    "### Splitting data in train and test datasets"
   ]
  },
  {
   "cell_type": "code",
   "execution_count": 124,
   "metadata": {
    "id": "WQldZsukBJxo"
   },
   "outputs": [],
   "source": [
    "X_train, X_test, y_train, y_test = train_test_split(pad_input_sequences, labels, test_size=0.1, random_state=42)"
   ]
  },
  {
   "cell_type": "code",
   "execution_count": 125,
   "metadata": {
    "colab": {
     "base_uri": "https://localhost:8080/"
    },
    "id": "iT4o3g_QBi12",
    "outputId": "14aecd21-a48b-4ee1-a904-c41f2c34b20d"
   },
   "outputs": [
    {
     "data": {
      "text/plain": [
       "(360000, 30)"
      ]
     },
     "execution_count": 125,
     "metadata": {},
     "output_type": "execute_result"
    }
   ],
   "source": [
    "X_train.shape"
   ]
  },
  {
   "cell_type": "markdown",
   "metadata": {
    "id": "Hd8yoSnriCi5"
   },
   "source": [
    "### Model building: single LSTM with embedding"
   ]
  },
  {
   "cell_type": "code",
   "execution_count": 126,
   "metadata": {
    "colab": {
     "base_uri": "https://localhost:8080/"
    },
    "id": "cAyGlx2CFr5C",
    "outputId": "52cc192a-9b63-4098-af0e-034122773a7e"
   },
   "outputs": [
    {
     "name": "stdout",
     "output_type": "stream",
     "text": [
      "Build model...\n",
      "Summary of the built model...\n",
      "Model: \"sequential_33\"\n",
      "_________________________________________________________________\n",
      " Layer (type)                Output Shape              Param #   \n",
      "=================================================================\n",
      " embedding_33 (Embedding)    (None, 30, 32)            320000    \n",
      "                                                                 \n",
      " lstm_28 (LSTM)              (None, 256)               295936    \n",
      "                                                                 \n",
      " flatten_11 (Flatten)        (None, 256)               0         \n",
      "                                                                 \n",
      " dense_40 (Dense)            (None, 64)                16448     \n",
      "                                                                 \n",
      " dropout_12 (Dropout)        (None, 64)                0         \n",
      "                                                                 \n",
      " dense_41 (Dense)            (None, 1)                 65        \n",
      "                                                                 \n",
      "=================================================================\n",
      "Total params: 632,449\n",
      "Trainable params: 632,449\n",
      "Non-trainable params: 0\n",
      "_________________________________________________________________\n",
      "None\n"
     ]
    }
   ],
   "source": [
    "EMBEDDING_DIM = 32\n",
    "\n",
    "print('Build model...')\n",
    "\n",
    "model = Sequential()\n",
    "model.add(Embedding(vocab_size, EMBEDDING_DIM, input_length=X_train.shape[1]))\n",
    "model.add(LSTM(units=256,  dropout=0.2))\n",
    "model.add(tf.keras.layers.Flatten())\n",
    "model.add(Dense(64, activation='relu'))\n",
    "model.add(Dropout(0.2))\n",
    "model.add(Dense(1, activation='sigmoid'))\n",
    "\n",
    "## LearningRateScheduler\n",
    "lr_scheduler = tf.keras.callbacks.LearningRateScheduler(\n",
    "    lambda epoch: 1e-5 * 10**(epoch/20)\n",
    ")\n",
    "## Compile model\n",
    "model.compile(loss='binary_crossentropy',\n",
    "                  optimizer=tf.keras.optimizers.Adam(1e-5),\n",
    "                  metrics=['accuracy'])\n",
    "\n",
    "print('Summary of the built model...')\n",
    "print(model.summary())"
   ]
  },
  {
   "cell_type": "code",
   "execution_count": 127,
   "metadata": {
    "colab": {
     "base_uri": "https://localhost:8080/",
     "height": 754
    },
    "id": "eQfLPWoBGcVL",
    "outputId": "5002cc56-5966-42a0-888c-bdc9a287b3b1"
   },
   "outputs": [
    {
     "data": {
      "image/png": "[encoded data removed]",
      "text/plain": [
       "<IPython.core.display.Image object>"
      ]
     },
     "execution_count": 127,
     "metadata": {},
     "output_type": "execute_result"
    }
   ],
   "source": [
    "plot_model(model, to_file='model_plot4a.png', show_shapes=True, show_layer_names=True)"
   ]
  },
  {
   "cell_type": "markdown",
   "metadata": {
    "id": "keAoPHpKEs1e"
   },
   "source": [
    "### Choosing the right learning rate using LR-Scheduler"
   ]
  },
  {
   "cell_type": "code",
   "execution_count": 128,
   "metadata": {
    "colab": {
     "base_uri": "https://localhost:8080/"
    },
    "id": "TGLbIaBFGnuK",
    "outputId": "e80f8204-0d3f-4589-9b48-e95452f5d665"
   },
   "outputs": [
    {
     "name": "stdout",
     "output_type": "stream",
     "text": [
      "Epoch 1/100\n",
      "633/633 - 7s - loss: 0.6931 - accuracy: 0.5038 - val_loss: 0.6930 - val_accuracy: 0.5080 - lr: 1.0000e-05 - 7s/epoch - 11ms/step\n",
      "Epoch 2/100\n",
      "633/633 - 4s - loss: 0.6930 - accuracy: 0.5051 - val_loss: 0.6928 - val_accuracy: 0.5215 - lr: 1.1220e-05 - 4s/epoch - 7ms/step\n",
      "Epoch 3/100\n",
      "633/633 - 4s - loss: 0.6222 - accuracy: 0.6444 - val_loss: 0.5691 - val_accuracy: 0.7035 - lr: 1.2589e-05 - 4s/epoch - 7ms/step\n",
      "Epoch 4/100\n",
      "633/633 - 4s - loss: 0.5619 - accuracy: 0.7096 - val_loss: 0.5441 - val_accuracy: 0.7230 - lr: 1.4125e-05 - 4s/epoch - 7ms/step\n",
      "Epoch 5/100\n",
      "633/633 - 4s - loss: 0.5425 - accuracy: 0.7254 - val_loss: 0.5295 - val_accuracy: 0.7349 - lr: 1.5849e-05 - 4s/epoch - 7ms/step\n",
      "Epoch 6/100\n",
      "633/633 - 4s - loss: 0.5291 - accuracy: 0.7350 - val_loss: 0.5166 - val_accuracy: 0.7426 - lr: 1.7783e-05 - 4s/epoch - 7ms/step\n",
      "Epoch 7/100\n",
      "633/633 - 4s - loss: 0.5186 - accuracy: 0.7430 - val_loss: 0.5094 - val_accuracy: 0.7482 - lr: 1.9953e-05 - 4s/epoch - 7ms/step\n",
      "Epoch 8/100\n",
      "633/633 - 4s - loss: 0.5114 - accuracy: 0.7480 - val_loss: 0.5038 - val_accuracy: 0.7521 - lr: 2.2387e-05 - 4s/epoch - 7ms/step\n",
      "Epoch 9/100\n",
      "633/633 - 4s - loss: 0.5050 - accuracy: 0.7530 - val_loss: 0.4991 - val_accuracy: 0.7558 - lr: 2.5119e-05 - 4s/epoch - 7ms/step\n",
      "Epoch 10/100\n",
      "633/633 - 4s - loss: 0.5001 - accuracy: 0.7566 - val_loss: 0.4962 - val_accuracy: 0.7577 - lr: 2.8184e-05 - 4s/epoch - 7ms/step\n",
      "Epoch 11/100\n",
      "633/633 - 4s - loss: 0.4965 - accuracy: 0.7594 - val_loss: 0.4951 - val_accuracy: 0.7600 - lr: 3.1623e-05 - 4s/epoch - 7ms/step\n",
      "Epoch 12/100\n",
      "633/633 - 4s - loss: 0.4924 - accuracy: 0.7621 - val_loss: 0.4926 - val_accuracy: 0.7596 - lr: 3.5481e-05 - 4s/epoch - 7ms/step\n",
      "Epoch 13/100\n",
      "633/633 - 4s - loss: 0.4891 - accuracy: 0.7648 - val_loss: 0.4909 - val_accuracy: 0.7618 - lr: 3.9811e-05 - 4s/epoch - 7ms/step\n",
      "Epoch 14/100\n",
      "633/633 - 4s - loss: 0.4865 - accuracy: 0.7664 - val_loss: 0.4909 - val_accuracy: 0.7606 - lr: 4.4668e-05 - 4s/epoch - 7ms/step\n",
      "Epoch 15/100\n",
      "633/633 - 4s - loss: 0.4845 - accuracy: 0.7676 - val_loss: 0.4913 - val_accuracy: 0.7614 - lr: 5.0119e-05 - 4s/epoch - 7ms/step\n",
      "Epoch 16/100\n",
      "633/633 - 4s - loss: 0.4825 - accuracy: 0.7687 - val_loss: 0.4892 - val_accuracy: 0.7629 - lr: 5.6234e-05 - 4s/epoch - 7ms/step\n",
      "Epoch 17/100\n",
      "633/633 - 4s - loss: 0.4796 - accuracy: 0.7709 - val_loss: 0.4899 - val_accuracy: 0.7629 - lr: 6.3096e-05 - 4s/epoch - 7ms/step\n",
      "Epoch 18/100\n",
      "633/633 - 4s - loss: 0.4783 - accuracy: 0.7712 - val_loss: 0.4891 - val_accuracy: 0.7636 - lr: 7.0795e-05 - 4s/epoch - 7ms/step\n",
      "Epoch 19/100\n",
      "633/633 - 4s - loss: 0.4767 - accuracy: 0.7721 - val_loss: 0.4889 - val_accuracy: 0.7632 - lr: 7.9433e-05 - 4s/epoch - 7ms/step\n",
      "Epoch 20/100\n",
      "633/633 - 4s - loss: 0.4744 - accuracy: 0.7735 - val_loss: 0.4909 - val_accuracy: 0.7633 - lr: 8.9125e-05 - 4s/epoch - 7ms/step\n",
      "Epoch 21/100\n",
      "633/633 - 4s - loss: 0.4726 - accuracy: 0.7744 - val_loss: 0.4930 - val_accuracy: 0.7596 - lr: 1.0000e-04 - 4s/epoch - 7ms/step\n",
      "Epoch 22/100\n",
      "633/633 - 4s - loss: 0.4709 - accuracy: 0.7751 - val_loss: 0.4894 - val_accuracy: 0.7635 - lr: 1.1220e-04 - 4s/epoch - 7ms/step\n",
      "Epoch 23/100\n",
      "633/633 - 4s - loss: 0.4686 - accuracy: 0.7760 - val_loss: 0.4931 - val_accuracy: 0.7623 - lr: 1.2589e-04 - 4s/epoch - 7ms/step\n",
      "Epoch 24/100\n",
      "633/633 - 4s - loss: 0.4666 - accuracy: 0.7771 - val_loss: 0.4895 - val_accuracy: 0.7633 - lr: 1.4125e-04 - 4s/epoch - 7ms/step\n",
      "Epoch 25/100\n",
      "633/633 - 4s - loss: 0.4644 - accuracy: 0.7777 - val_loss: 0.4911 - val_accuracy: 0.7628 - lr: 1.5849e-04 - 4s/epoch - 7ms/step\n",
      "Epoch 26/100\n",
      "633/633 - 4s - loss: 0.4628 - accuracy: 0.7785 - val_loss: 0.4894 - val_accuracy: 0.7640 - lr: 1.7783e-04 - 4s/epoch - 7ms/step\n",
      "Epoch 27/100\n",
      "633/633 - 4s - loss: 0.4608 - accuracy: 0.7798 - val_loss: 0.4907 - val_accuracy: 0.7638 - lr: 1.9953e-04 - 4s/epoch - 7ms/step\n",
      "Epoch 28/100\n",
      "633/633 - 4s - loss: 0.4586 - accuracy: 0.7809 - val_loss: 0.4958 - val_accuracy: 0.7637 - lr: 2.2387e-04 - 4s/epoch - 7ms/step\n",
      "Epoch 29/100\n",
      "633/633 - 4s - loss: 0.4563 - accuracy: 0.7816 - val_loss: 0.4943 - val_accuracy: 0.7639 - lr: 2.5119e-04 - 4s/epoch - 7ms/step\n",
      "Epoch 30/100\n",
      "633/633 - 4s - loss: 0.4542 - accuracy: 0.7838 - val_loss: 0.4923 - val_accuracy: 0.7629 - lr: 2.8184e-04 - 4s/epoch - 7ms/step\n",
      "Epoch 31/100\n",
      "633/633 - 4s - loss: 0.4527 - accuracy: 0.7843 - val_loss: 0.4939 - val_accuracy: 0.7610 - lr: 3.1623e-04 - 4s/epoch - 7ms/step\n",
      "Epoch 32/100\n",
      "633/633 - 4s - loss: 0.4511 - accuracy: 0.7853 - val_loss: 0.4959 - val_accuracy: 0.7624 - lr: 3.5481e-04 - 4s/epoch - 7ms/step\n",
      "Epoch 33/100\n",
      "633/633 - 4s - loss: 0.4498 - accuracy: 0.7865 - val_loss: 0.5026 - val_accuracy: 0.7634 - lr: 3.9811e-04 - 4s/epoch - 7ms/step\n",
      "Epoch 34/100\n",
      "633/633 - 4s - loss: 0.4478 - accuracy: 0.7876 - val_loss: 0.4948 - val_accuracy: 0.7617 - lr: 4.4668e-04 - 4s/epoch - 7ms/step\n",
      "Epoch 35/100\n",
      "633/633 - 4s - loss: 0.4467 - accuracy: 0.7876 - val_loss: 0.5005 - val_accuracy: 0.7607 - lr: 5.0119e-04 - 4s/epoch - 7ms/step\n",
      "Epoch 36/100\n",
      "633/633 - 4s - loss: 0.4448 - accuracy: 0.7894 - val_loss: 0.5081 - val_accuracy: 0.7559 - lr: 5.6234e-04 - 4s/epoch - 7ms/step\n",
      "Epoch 37/100\n",
      "633/633 - 4s - loss: 0.4422 - accuracy: 0.7908 - val_loss: 0.5036 - val_accuracy: 0.7569 - lr: 6.3096e-04 - 4s/epoch - 7ms/step\n",
      "Epoch 38/100\n",
      "633/633 - 4s - loss: 0.4383 - accuracy: 0.7937 - val_loss: 0.5108 - val_accuracy: 0.7615 - lr: 7.0795e-04 - 4s/epoch - 7ms/step\n",
      "Epoch 39/100\n",
      "633/633 - 4s - loss: 0.4351 - accuracy: 0.7953 - val_loss: 0.5108 - val_accuracy: 0.7596 - lr: 7.9433e-04 - 4s/epoch - 7ms/step\n",
      "Epoch 40/100\n",
      "633/633 - 4s - loss: 0.4314 - accuracy: 0.7973 - val_loss: 0.5062 - val_accuracy: 0.7616 - lr: 8.9125e-04 - 4s/epoch - 7ms/step\n",
      "Epoch 41/100\n",
      "633/633 - 4s - loss: 0.4286 - accuracy: 0.7988 - val_loss: 0.5119 - val_accuracy: 0.7583 - lr: 0.0010 - 4s/epoch - 7ms/step\n",
      "Epoch 42/100\n",
      "633/633 - 4s - loss: 0.4243 - accuracy: 0.8015 - val_loss: 0.5047 - val_accuracy: 0.7600 - lr: 0.0011 - 4s/epoch - 7ms/step\n",
      "Epoch 43/100\n",
      "633/633 - 4s - loss: 0.4210 - accuracy: 0.8027 - val_loss: 0.5277 - val_accuracy: 0.7559 - lr: 0.0013 - 4s/epoch - 7ms/step\n",
      "Epoch 44/100\n",
      "633/633 - 4s - loss: 0.4181 - accuracy: 0.8051 - val_loss: 0.5270 - val_accuracy: 0.7551 - lr: 0.0014 - 4s/epoch - 7ms/step\n",
      "Epoch 45/100\n",
      "633/633 - 4s - loss: 0.4139 - accuracy: 0.8067 - val_loss: 0.5165 - val_accuracy: 0.7566 - lr: 0.0016 - 4s/epoch - 7ms/step\n",
      "Epoch 46/100\n",
      "633/633 - 4s - loss: 0.4108 - accuracy: 0.8086 - val_loss: 0.5400 - val_accuracy: 0.7567 - lr: 0.0018 - 4s/epoch - 7ms/step\n",
      "Epoch 47/100\n",
      "633/633 - 4s - loss: 0.4063 - accuracy: 0.8106 - val_loss: 0.5347 - val_accuracy: 0.7580 - lr: 0.0020 - 4s/epoch - 7ms/step\n",
      "Epoch 48/100\n",
      "633/633 - 4s - loss: 0.4019 - accuracy: 0.8132 - val_loss: 0.5277 - val_accuracy: 0.7531 - lr: 0.0022 - 4s/epoch - 7ms/step\n",
      "Epoch 49/100\n",
      "633/633 - 4s - loss: 0.3978 - accuracy: 0.8158 - val_loss: 0.5420 - val_accuracy: 0.7569 - lr: 0.0025 - 4s/epoch - 7ms/step\n",
      "Epoch 50/100\n",
      "633/633 - 4s - loss: 0.3941 - accuracy: 0.8181 - val_loss: 0.5443 - val_accuracy: 0.7567 - lr: 0.0028 - 4s/epoch - 7ms/step\n",
      "Epoch 51/100\n",
      "633/633 - 4s - loss: 0.3898 - accuracy: 0.8202 - val_loss: 0.5470 - val_accuracy: 0.7534 - lr: 0.0032 - 4s/epoch - 7ms/step\n",
      "Epoch 52/100\n",
      "633/633 - 4s - loss: 0.3852 - accuracy: 0.8226 - val_loss: 0.5352 - val_accuracy: 0.7537 - lr: 0.0035 - 4s/epoch - 7ms/step\n",
      "Epoch 53/100\n",
      "633/633 - 4s - loss: 0.3810 - accuracy: 0.8251 - val_loss: 0.5395 - val_accuracy: 0.7519 - lr: 0.0040 - 4s/epoch - 7ms/step\n",
      "Epoch 54/100\n",
      "633/633 - 4s - loss: 0.3772 - accuracy: 0.8273 - val_loss: 0.5608 - val_accuracy: 0.7531 - lr: 0.0045 - 4s/epoch - 7ms/step\n",
      "Epoch 55/100\n",
      "633/633 - 4s - loss: 0.3736 - accuracy: 0.8291 - val_loss: 0.5660 - val_accuracy: 0.7534 - lr: 0.0050 - 4s/epoch - 7ms/step\n",
      "Epoch 56/100\n",
      "633/633 - 4s - loss: 0.3697 - accuracy: 0.8314 - val_loss: 0.5639 - val_accuracy: 0.7544 - lr: 0.0056 - 4s/epoch - 7ms/step\n",
      "Epoch 57/100\n",
      "633/633 - 5s - loss: 0.3668 - accuracy: 0.8334 - val_loss: 0.5624 - val_accuracy: 0.7552 - lr: 0.0063 - 5s/epoch - 7ms/step\n",
      "Epoch 58/100\n",
      "633/633 - 4s - loss: 0.3654 - accuracy: 0.8341 - val_loss: 0.5672 - val_accuracy: 0.7535 - lr: 0.0071 - 4s/epoch - 7ms/step\n",
      "Epoch 59/100\n",
      "633/633 - 4s - loss: 0.3643 - accuracy: 0.8351 - val_loss: 0.5733 - val_accuracy: 0.7489 - lr: 0.0079 - 4s/epoch - 7ms/step\n",
      "Epoch 60/100\n",
      "633/633 - 4s - loss: 0.3648 - accuracy: 0.8340 - val_loss: 0.5821 - val_accuracy: 0.7509 - lr: 0.0089 - 4s/epoch - 7ms/step\n",
      "Epoch 61/100\n",
      "633/633 - 4s - loss: 0.3675 - accuracy: 0.8343 - val_loss: 0.5647 - val_accuracy: 0.7492 - lr: 0.0100 - 4s/epoch - 7ms/step\n",
      "Epoch 62/100\n",
      "633/633 - 4s - loss: 0.3737 - accuracy: 0.8303 - val_loss: 0.5557 - val_accuracy: 0.7511 - lr: 0.0112 - 4s/epoch - 7ms/step\n",
      "Epoch 63/100\n",
      "633/633 - 4s - loss: 0.3785 - accuracy: 0.8275 - val_loss: 0.5391 - val_accuracy: 0.7494 - lr: 0.0126 - 4s/epoch - 7ms/step\n",
      "Epoch 64/100\n",
      "633/633 - 4s - loss: 0.3858 - accuracy: 0.8243 - val_loss: 0.5353 - val_accuracy: 0.7504 - lr: 0.0141 - 4s/epoch - 7ms/step\n",
      "Epoch 65/100\n",
      "633/633 - 4s - loss: 0.3961 - accuracy: 0.8180 - val_loss: 0.5356 - val_accuracy: 0.7513 - lr: 0.0158 - 4s/epoch - 7ms/step\n",
      "Epoch 66/100\n",
      "633/633 - 4s - loss: 0.4080 - accuracy: 0.8119 - val_loss: 0.5215 - val_accuracy: 0.7526 - lr: 0.0178 - 4s/epoch - 7ms/step\n",
      "Epoch 67/100\n",
      "633/633 - 4s - loss: 0.4371 - accuracy: 0.7965 - val_loss: 0.5210 - val_accuracy: 0.7445 - lr: 0.0200 - 4s/epoch - 7ms/step\n",
      "Epoch 68/100\n",
      "633/633 - 4s - loss: 0.6713 - accuracy: 0.5731 - val_loss: 0.6717 - val_accuracy: 0.5845 - lr: 0.0224 - 4s/epoch - 7ms/step\n",
      "Epoch 69/100\n",
      "633/633 - 4s - loss: 0.6808 - accuracy: 0.5560 - val_loss: 0.6692 - val_accuracy: 0.5828 - lr: 0.0251 - 4s/epoch - 7ms/step\n",
      "Epoch 70/100\n",
      "633/633 - 4s - loss: 0.6854 - accuracy: 0.5444 - val_loss: 0.6790 - val_accuracy: 0.5677 - lr: 0.0282 - 4s/epoch - 7ms/step\n",
      "Epoch 71/100\n",
      "633/633 - 4s - loss: 0.6859 - accuracy: 0.5417 - val_loss: 0.6808 - val_accuracy: 0.5649 - lr: 0.0316 - 4s/epoch - 7ms/step\n",
      "Epoch 72/100\n",
      "633/633 - 4s - loss: 0.6874 - accuracy: 0.5387 - val_loss: 0.6765 - val_accuracy: 0.5774 - lr: 0.0355 - 4s/epoch - 7ms/step\n",
      "Epoch 73/100\n",
      "633/633 - 4s - loss: 0.6910 - accuracy: 0.5243 - val_loss: 0.6913 - val_accuracy: 0.5318 - lr: 0.0398 - 4s/epoch - 7ms/step\n",
      "Epoch 74/100\n",
      "633/633 - 4s - loss: 0.6935 - accuracy: 0.5020 - val_loss: 0.6930 - val_accuracy: 0.5080 - lr: 0.0447 - 4s/epoch - 7ms/step\n",
      "Epoch 75/100\n",
      "633/633 - 4s - loss: 0.6933 - accuracy: 0.5016 - val_loss: 0.6930 - val_accuracy: 0.5080 - lr: 0.0501 - 4s/epoch - 7ms/step\n",
      "Epoch 76/100\n",
      "633/633 - 4s - loss: 0.6937 - accuracy: 0.5010 - val_loss: 0.6934 - val_accuracy: 0.4920 - lr: 0.0562 - 4s/epoch - 7ms/step\n",
      "Epoch 77/100\n",
      "633/633 - 4s - loss: 0.6934 - accuracy: 0.5006 - val_loss: 0.6931 - val_accuracy: 0.5080 - lr: 0.0631 - 4s/epoch - 7ms/step\n",
      "Epoch 78/100\n",
      "633/633 - 4s - loss: 0.6934 - accuracy: 0.5031 - val_loss: 0.6938 - val_accuracy: 0.4920 - lr: 0.0708 - 4s/epoch - 7ms/step\n",
      "Epoch 79/100\n",
      "633/633 - 4s - loss: 0.6935 - accuracy: 0.5010 - val_loss: 0.6946 - val_accuracy: 0.4920 - lr: 0.0794 - 4s/epoch - 7ms/step\n",
      "Epoch 80/100\n",
      "633/633 - 4s - loss: 0.6977 - accuracy: 0.5009 - val_loss: 0.6931 - val_accuracy: 0.5080 - lr: 0.0891 - 4s/epoch - 7ms/step\n",
      "Epoch 81/100\n",
      "633/633 - 4s - loss: 0.6943 - accuracy: 0.5010 - val_loss: 0.6931 - val_accuracy: 0.5080 - lr: 0.1000 - 4s/epoch - 7ms/step\n",
      "Epoch 82/100\n",
      "633/633 - 4s - loss: 0.6945 - accuracy: 0.5011 - val_loss: 0.6934 - val_accuracy: 0.4920 - lr: 0.1122 - 4s/epoch - 7ms/step\n",
      "Epoch 83/100\n",
      "633/633 - 4s - loss: 0.6938 - accuracy: 0.5034 - val_loss: 0.6931 - val_accuracy: 0.5080 - lr: 0.1259 - 4s/epoch - 7ms/step\n",
      "Epoch 84/100\n",
      "633/633 - 4s - loss: 0.6940 - accuracy: 0.5015 - val_loss: 0.6937 - val_accuracy: 0.4920 - lr: 0.1413 - 4s/epoch - 7ms/step\n",
      "Epoch 85/100\n",
      "633/633 - 4s - loss: 0.6946 - accuracy: 0.5010 - val_loss: 0.6952 - val_accuracy: 0.4920 - lr: 0.1585 - 4s/epoch - 7ms/step\n",
      "Epoch 86/100\n",
      "633/633 - 4s - loss: 0.6949 - accuracy: 0.5005 - val_loss: 0.6967 - val_accuracy: 0.5080 - lr: 0.1778 - 4s/epoch - 7ms/step\n",
      "Epoch 87/100\n",
      "633/633 - 4s - loss: 0.6941 - accuracy: 0.4984 - val_loss: 0.6952 - val_accuracy: 0.4920 - lr: 0.1995 - 4s/epoch - 7ms/step\n",
      "Epoch 88/100\n",
      "633/633 - 4s - loss: 0.6948 - accuracy: 0.5011 - val_loss: 0.6931 - val_accuracy: 0.4920 - lr: 0.2239 - 4s/epoch - 7ms/step\n",
      "Epoch 89/100\n",
      "633/633 - 4s - loss: 0.7078 - accuracy: 0.4999 - val_loss: 0.6955 - val_accuracy: 0.5080 - lr: 0.2512 - 4s/epoch - 7ms/step\n",
      "Epoch 90/100\n",
      "633/633 - 4s - loss: 0.7004 - accuracy: 0.5006 - val_loss: 0.6930 - val_accuracy: 0.5080 - lr: 0.2818 - 4s/epoch - 7ms/step\n",
      "Epoch 91/100\n",
      "633/633 - 4s - loss: 0.6973 - accuracy: 0.5003 - val_loss: 0.6930 - val_accuracy: 0.5080 - lr: 0.3162 - 4s/epoch - 7ms/step\n",
      "Epoch 92/100\n",
      "633/633 - 4s - loss: 0.7146 - accuracy: 0.5010 - val_loss: 0.6947 - val_accuracy: 0.5080 - lr: 0.3548 - 4s/epoch - 7ms/step\n",
      "Epoch 93/100\n",
      "633/633 - 4s - loss: 0.7002 - accuracy: 0.5000 - val_loss: 0.6967 - val_accuracy: 0.5080 - lr: 0.3981 - 4s/epoch - 7ms/step\n",
      "Epoch 94/100\n",
      "633/633 - 4s - loss: 0.6965 - accuracy: 0.5010 - val_loss: 0.6944 - val_accuracy: 0.4920 - lr: 0.4467 - 4s/epoch - 7ms/step\n",
      "Epoch 95/100\n",
      "633/633 - 4s - loss: 0.6955 - accuracy: 0.5010 - val_loss: 0.6964 - val_accuracy: 0.5080 - lr: 0.5012 - 4s/epoch - 7ms/step\n",
      "Epoch 96/100\n",
      "633/633 - 4s - loss: 0.6957 - accuracy: 0.5010 - val_loss: 0.6979 - val_accuracy: 0.4920 - lr: 0.5623 - 4s/epoch - 7ms/step\n",
      "Epoch 97/100\n",
      "633/633 - 4s - loss: 0.6957 - accuracy: 0.5003 - val_loss: 0.6999 - val_accuracy: 0.5080 - lr: 0.6310 - 4s/epoch - 7ms/step\n",
      "Epoch 98/100\n",
      "633/633 - 4s - loss: 0.6956 - accuracy: 0.4999 - val_loss: 0.6944 - val_accuracy: 0.5080 - lr: 0.7079 - 4s/epoch - 7ms/step\n",
      "Epoch 99/100\n",
      "633/633 - 4s - loss: 0.6958 - accuracy: 0.5005 - val_loss: 0.7021 - val_accuracy: 0.5080 - lr: 0.7943 - 4s/epoch - 7ms/step\n",
      "Epoch 100/100\n",
      "633/633 - 4s - loss: 0.6966 - accuracy: 0.5004 - val_loss: 0.6973 - val_accuracy: 0.4920 - lr: 0.8913 - 4s/epoch - 7ms/step\n"
     ]
    }
   ],
   "source": [
    "## Set seed for reproductibility\n",
    "np.random.seed(42)\n",
    "tf.random.set_seed(42)\n",
    "\n",
    "history=model.fit(X_train, np.array(y_train), batch_size=512, epochs=100, callbacks=[lr_scheduler], validation_split=0.1, verbose=2)"
   ]
  },
  {
   "cell_type": "code",
   "execution_count": 129,
   "metadata": {
    "colab": {
     "base_uri": "https://localhost:8080/",
     "height": 286
    },
    "id": "yOgT1xsyLdF_",
    "outputId": "729c5a48-befb-490a-ac34-2c0b6f527ef5"
   },
   "outputs": [
    {
     "data": {
      "text/plain": [
       "[<matplotlib.lines.Line2D at 0x7fd74d148350>]"
      ]
     },
     "execution_count": 129,
     "metadata": {},
     "output_type": "execute_result"
    },
    {
     "data": {
      "image/png": "[encoded data removed]",
      "text/plain": [
       "<Figure size 432x288 with 1 Axes>"
      ]
     },
     "metadata": {
      "needs_background": "light"
     },
     "output_type": "display_data"
    }
   ],
   "source": [
    "lrs = 1e-5 * (10**(np.arange(100)/20))\n",
    "plt.semilogx(lrs, history.history['loss'])"
   ]
  },
  {
   "cell_type": "code",
   "execution_count": 130,
   "metadata": {
    "colab": {
     "base_uri": "https://localhost:8080/",
     "height": 286
    },
    "id": "wjFTelq3NpQ2",
    "outputId": "bf770d96-1ff8-4faf-8cd9-04fe2c6a1165"
   },
   "outputs": [
    {
     "data": {
      "text/plain": [
       "[<matplotlib.lines.Line2D at 0x7fd764646650>]"
      ]
     },
     "execution_count": 130,
     "metadata": {},
     "output_type": "execute_result"
    },
    {
     "data": {
      "image/png": "[encoded data removed]",
      "text/plain": [
       "<Figure size 432x288 with 1 Axes>"
      ]
     },
     "metadata": {
      "needs_background": "light"
     },
     "output_type": "display_data"
    }
   ],
   "source": [
    "lrs = 1e-5 * (10**(np.arange(100)/20))\n",
    "plt.semilogx(lrs, history.history['val_loss'])"
   ]
  },
  {
   "cell_type": "markdown",
   "metadata": {
    "id": "g4VdugBwE3o7"
   },
   "source": [
    "***The right learning rate for the model above is around 8.0e-5***"
   ]
  },
  {
   "cell_type": "code",
   "execution_count": 158,
   "metadata": {
    "colab": {
     "base_uri": "https://localhost:8080/"
    },
    "id": "iOBhUuUMOPqE",
    "outputId": "8e6951c3-674b-4482-e701-4fc6830a08e7"
   },
   "outputs": [
    {
     "name": "stdout",
     "output_type": "stream",
     "text": [
      "Build model...\n",
      "Summary of the built model...\n",
      "Model: \"sequential_42\"\n",
      "_________________________________________________________________\n",
      " Layer (type)                Output Shape              Param #   \n",
      "=================================================================\n",
      " embedding_42 (Embedding)    (None, 30, 32)            320000    \n",
      "                                                                 \n",
      " lstm_40 (LSTM)              (None, 256)               295936    \n",
      "                                                                 \n",
      " flatten_20 (Flatten)        (None, 256)               0         \n",
      "                                                                 \n",
      " dense_58 (Dense)            (None, 64)                16448     \n",
      "                                                                 \n",
      " dropout_21 (Dropout)        (None, 64)                0         \n",
      "                                                                 \n",
      " dense_59 (Dense)            (None, 1)                 65        \n",
      "                                                                 \n",
      "=================================================================\n",
      "Total params: 632,449\n",
      "Trainable params: 632,449\n",
      "Non-trainable params: 0\n",
      "_________________________________________________________________\n",
      "None\n"
     ]
    }
   ],
   "source": [
    "## Set seed for reproductibility\n",
    "np.random.seed(42)\n",
    "tf.random.set_seed(42)\n",
    "\n",
    "EMBEDDING_DIM = 32\n",
    "\n",
    "print('Build model...')\n",
    "\n",
    "model = Sequential()\n",
    "model.add(Embedding(vocab_size, EMBEDDING_DIM, input_length=X_train.shape[1]))\n",
    "model.add(LSTM(units=256,  dropout=0.2))\n",
    "model.add(tf.keras.layers.Flatten())\n",
    "model.add(Dense(64, activation='relu'))\n",
    "model.add(Dropout(0.2))\n",
    "model.add(Dense(1, activation='sigmoid'))\n",
    "\n",
    "## Compile model\n",
    "model.compile(loss='binary_crossentropy',\n",
    "                  optimizer=tf.keras.optimizers.Adam(8.0e-5),\n",
    "                  metrics=['accuracy'])\n",
    "\n",
    "print('Summary of the built model...')\n",
    "print(model.summary())"
   ]
  },
  {
   "cell_type": "code",
   "execution_count": 159,
   "metadata": {
    "colab": {
     "base_uri": "https://localhost:8080/"
    },
    "id": "ccPfb17oOPxG",
    "outputId": "4f25cdd7-4447-4632-ff17-c4b641eb2a95"
   },
   "outputs": [
    {
     "name": "stdout",
     "output_type": "stream",
     "text": [
      "Epoch 1/12\n",
      "633/633 - 7s - loss: 0.6146 - accuracy: 0.6301 - val_loss: 0.5220 - val_accuracy: 0.7412 - 7s/epoch - 11ms/step\n",
      "Epoch 2/12\n",
      "633/633 - 4s - loss: 0.5144 - accuracy: 0.7470 - val_loss: 0.4984 - val_accuracy: 0.7587 - 4s/epoch - 7ms/step\n",
      "Epoch 3/12\n",
      "633/633 - 4s - loss: 0.4976 - accuracy: 0.7585 - val_loss: 0.4936 - val_accuracy: 0.7609 - 4s/epoch - 7ms/step\n",
      "Epoch 4/12\n",
      "633/633 - 4s - loss: 0.4893 - accuracy: 0.7643 - val_loss: 0.4932 - val_accuracy: 0.7624 - 4s/epoch - 7ms/step\n",
      "Epoch 5/12\n",
      "633/633 - 4s - loss: 0.4842 - accuracy: 0.7682 - val_loss: 0.4904 - val_accuracy: 0.7632 - 4s/epoch - 7ms/step\n",
      "Epoch 6/12\n",
      "633/633 - 4s - loss: 0.4812 - accuracy: 0.7693 - val_loss: 0.4897 - val_accuracy: 0.7634 - 4s/epoch - 7ms/step\n",
      "Epoch 7/12\n",
      "633/633 - 4s - loss: 0.4778 - accuracy: 0.7721 - val_loss: 0.4900 - val_accuracy: 0.7646 - 4s/epoch - 7ms/step\n",
      "Epoch 8/12\n",
      "633/633 - 4s - loss: 0.4757 - accuracy: 0.7733 - val_loss: 0.4915 - val_accuracy: 0.7637 - 4s/epoch - 7ms/step\n",
      "Epoch 9/12\n",
      "633/633 - 5s - loss: 0.4734 - accuracy: 0.7739 - val_loss: 0.4882 - val_accuracy: 0.7642 - 5s/epoch - 7ms/step\n",
      "Epoch 10/12\n",
      "633/633 - 4s - loss: 0.4714 - accuracy: 0.7749 - val_loss: 0.4891 - val_accuracy: 0.7639 - 4s/epoch - 7ms/step\n",
      "Epoch 11/12\n",
      "633/633 - 4s - loss: 0.4698 - accuracy: 0.7758 - val_loss: 0.4876 - val_accuracy: 0.7647 - 4s/epoch - 7ms/step\n",
      "Epoch 12/12\n",
      "633/633 - 4s - loss: 0.4676 - accuracy: 0.7768 - val_loss: 0.4883 - val_accuracy: 0.7655 - 4s/epoch - 7ms/step\n"
     ]
    }
   ],
   "source": [
    "## Set seed for reproductibility\n",
    "np.random.seed(42)\n",
    "tf.random.set_seed(42)\n",
    "\n",
    "history=model.fit(X_train, np.array(y_train), batch_size=512, epochs=12, validation_split=0.1, verbose=2)"
   ]
  },
  {
   "cell_type": "code",
   "execution_count": 160,
   "metadata": {
    "colab": {
     "base_uri": "https://localhost:8080/",
     "height": 590
    },
    "id": "D2AH9-MpOPzk",
    "outputId": "a79e03da-9deb-41dc-9872-6e20551402c7"
   },
   "outputs": [
    {
     "name": "stdout",
     "output_type": "stream",
     "text": [
      "dict_keys(['loss', 'accuracy', 'val_loss', 'val_accuracy'])\n"
     ]
    },
    {
     "data": {
      "image/png": "[encoded data removed]",
      "text/plain": [
       "<Figure size 432x288 with 1 Axes>"
      ]
     },
     "metadata": {
      "needs_background": "light"
     },
     "output_type": "display_data"
    },
    {
     "data": {
      "image/png": "[encoded data removed]",
      "text/plain": [
       "<Figure size 432x288 with 1 Axes>"
      ]
     },
     "metadata": {
      "needs_background": "light"
     },
     "output_type": "display_data"
    }
   ],
   "source": [
    "print(history.history.keys())\n",
    "# summarize history for accuracy\n",
    "plt.plot(history.history['accuracy'])\n",
    "plt.plot(history.history['val_accuracy'])\n",
    "plt.title('model accuracy')\n",
    "plt.ylabel('accuracy')\n",
    "plt.xlabel('epoch')\n",
    "plt.legend(['train', 'test'], loc='upper left')\n",
    "plt.show()\n",
    "# summarize history for loss\n",
    "plt.plot(history.history['loss'])\n",
    "plt.plot(history.history['val_loss'])\n",
    "plt.title('model loss')\n",
    "plt.ylabel('loss')\n",
    "plt.xlabel('epoch')\n",
    "plt.legend(['train', 'test'], loc='upper left')\n",
    "plt.show()"
   ]
  },
  {
   "cell_type": "markdown",
   "metadata": {
    "id": "Mnca6epbF2gI"
   },
   "source": [
    "### Model evaluation (single LSTM)"
   ]
  },
  {
   "cell_type": "code",
   "execution_count": 161,
   "metadata": {
    "colab": {
     "base_uri": "https://localhost:8080/"
    },
    "id": "vb7s9XAMF-yu",
    "outputId": "b80b1542-d9eb-4a6f-c86a-c82ffc69196a"
   },
   "outputs": [
    {
     "name": "stdout",
     "output_type": "stream",
     "text": [
      "1250/1250 [==============================] - 4s 4ms/step - loss: 0.4880 - accuracy: 0.7630\n",
      "Test score: 0.4880305528640747\n",
      "Test accuracy: 0.7630000114440918\n",
      "Accuracy: 76.30%\n"
     ]
    }
   ],
   "source": [
    "loss, acc = model.evaluate(X_test, np.array(y_test))\n",
    "\n",
    "print('Test score:', loss)\n",
    "print('Test accuracy:', acc)\n",
    "print(\"Accuracy: %.2f%%\" % (acc*100))"
   ]
  },
  {
   "cell_type": "code",
   "execution_count": null,
   "metadata": {
    "id": "BTTaw5pkzJc2"
   },
   "outputs": [],
   "source": []
  },
  {
   "cell_type": "markdown",
   "metadata": {
    "id": "XI9J7EqEHgRD"
   },
   "source": [
    "### Bidirectional LSTM with embedding"
   ]
  },
  {
   "cell_type": "code",
   "execution_count": 146,
   "metadata": {
    "colab": {
     "base_uri": "https://localhost:8080/"
    },
    "id": "ptwj8gnczJnr",
    "outputId": "6972c6fe-c4e1-4aba-e5a9-37279b95cd38"
   },
   "outputs": [
    {
     "name": "stdout",
     "output_type": "stream",
     "text": [
      "Build model...\n",
      "Summary of the built model...\n",
      "Model: \"sequential_41\"\n",
      "_________________________________________________________________\n",
      " Layer (type)                Output Shape              Param #   \n",
      "=================================================================\n",
      " embedding_41 (Embedding)    (None, 30, 32)            320000    \n",
      "                                                                 \n",
      " bidirectional_6 (Bidirectio  (None, 30, 512)          591872    \n",
      " nal)                                                            \n",
      "                                                                 \n",
      " bidirectional_7 (Bidirectio  (None, 128)              295424    \n",
      " nal)                                                            \n",
      "                                                                 \n",
      " flatten_19 (Flatten)        (None, 128)               0         \n",
      "                                                                 \n",
      " dense_56 (Dense)            (None, 128)               16512     \n",
      "                                                                 \n",
      " dropout_20 (Dropout)        (None, 128)               0         \n",
      "                                                                 \n",
      " dense_57 (Dense)            (None, 1)                 129       \n",
      "                                                                 \n",
      "=================================================================\n",
      "Total params: 1,223,937\n",
      "Trainable params: 1,223,937\n",
      "Non-trainable params: 0\n",
      "_________________________________________________________________\n",
      "None\n"
     ]
    }
   ],
   "source": [
    "## Set seed for reproductibility\n",
    "np.random.seed(42)\n",
    "tf.random.set_seed(42)\n",
    "\n",
    "EMBEDDING_DIM = 32\n",
    "\n",
    "print('Build model...')\n",
    "\n",
    "model = Sequential()\n",
    "model.add(Embedding(vocab_size, EMBEDDING_DIM, input_length=X_train.shape[1]))\n",
    "model.add(Bidirectional(LSTM(256, return_sequences=True)))\n",
    "model.add(Bidirectional(LSTM(64,  dropout=0.2)))\n",
    "model.add(tf.keras.layers.Flatten())\n",
    "model.add(Dense(128, activation='relu'))\n",
    "model.add(Dropout(0.2))\n",
    "model.add(Dense(1, activation='sigmoid'))\n",
    "\n",
    "## Compile model\n",
    "model.compile(loss='binary_crossentropy',\n",
    "                  optimizer=tf.keras.optimizers.Adam(8.0e-5),\n",
    "                  metrics=['accuracy'])\n",
    "\n",
    "print('Summary of the built model...')\n",
    "print(model.summary())"
   ]
  },
  {
   "cell_type": "code",
   "execution_count": 147,
   "metadata": {
    "colab": {
     "base_uri": "https://localhost:8080/"
    },
    "id": "k-1OcllEOP2W",
    "outputId": "9bb4414c-c321-4e8f-c83b-59e878327c0e"
   },
   "outputs": [
    {
     "name": "stdout",
     "output_type": "stream",
     "text": [
      "Epoch 1/12\n",
      "633/633 - 19s - loss: 0.5734 - accuracy: 0.6842 - val_loss: 0.5065 - val_accuracy: 0.7521 - 19s/epoch - 29ms/step\n",
      "Epoch 2/12\n",
      "633/633 - 10s - loss: 0.4919 - accuracy: 0.7633 - val_loss: 0.4925 - val_accuracy: 0.7611 - 10s/epoch - 16ms/step\n",
      "Epoch 3/12\n",
      "633/633 - 10s - loss: 0.4787 - accuracy: 0.7720 - val_loss: 0.4908 - val_accuracy: 0.7617 - 10s/epoch - 16ms/step\n",
      "Epoch 4/12\n",
      "633/633 - 10s - loss: 0.4739 - accuracy: 0.7752 - val_loss: 0.4898 - val_accuracy: 0.7627 - 10s/epoch - 16ms/step\n",
      "Epoch 5/12\n",
      "633/633 - 10s - loss: 0.4709 - accuracy: 0.7772 - val_loss: 0.4902 - val_accuracy: 0.7642 - 10s/epoch - 16ms/step\n",
      "Epoch 6/12\n",
      "633/633 - 10s - loss: 0.4687 - accuracy: 0.7785 - val_loss: 0.4918 - val_accuracy: 0.7617 - 10s/epoch - 16ms/step\n",
      "Epoch 7/12\n",
      "633/633 - 10s - loss: 0.4670 - accuracy: 0.7793 - val_loss: 0.4907 - val_accuracy: 0.7628 - 10s/epoch - 16ms/step\n",
      "Epoch 8/12\n",
      "633/633 - 10s - loss: 0.4660 - accuracy: 0.7801 - val_loss: 0.4902 - val_accuracy: 0.7646 - 10s/epoch - 16ms/step\n",
      "Epoch 9/12\n",
      "633/633 - 10s - loss: 0.4642 - accuracy: 0.7814 - val_loss: 0.4900 - val_accuracy: 0.7652 - 10s/epoch - 16ms/step\n",
      "Epoch 10/12\n",
      "633/633 - 10s - loss: 0.4630 - accuracy: 0.7818 - val_loss: 0.4901 - val_accuracy: 0.7649 - 10s/epoch - 16ms/step\n",
      "Epoch 11/12\n",
      "633/633 - 10s - loss: 0.4615 - accuracy: 0.7825 - val_loss: 0.4890 - val_accuracy: 0.7641 - 10s/epoch - 16ms/step\n",
      "Epoch 12/12\n",
      "633/633 - 10s - loss: 0.4598 - accuracy: 0.7828 - val_loss: 0.4893 - val_accuracy: 0.7654 - 10s/epoch - 16ms/step\n"
     ]
    }
   ],
   "source": [
    "## Set seed for reproductibility\n",
    "np.random.seed(42)\n",
    "tf.random.set_seed(42)\n",
    "\n",
    "history=model.fit(X_train, np.array(y_train), batch_size=512, epochs=12, validation_split=0.1, verbose=2)"
   ]
  },
  {
   "cell_type": "markdown",
   "metadata": {
    "id": "D5grMLAtiMyR"
   },
   "source": [
    "### Model evaluation (bidirectional LSTM)"
   ]
  },
  {
   "cell_type": "code",
   "execution_count": 148,
   "metadata": {
    "colab": {
     "base_uri": "https://localhost:8080/"
    },
    "id": "C1wj9LCeL7jN",
    "outputId": "852e1b1d-bbf7-4fc7-b06f-1c79071e05bc"
   },
   "outputs": [
    {
     "name": "stdout",
     "output_type": "stream",
     "text": [
      "1250/1250 [==============================] - 9s 7ms/step - loss: 0.4894 - accuracy: 0.7621\n",
      "Test score: 0.4893818795681\n",
      "Test accuracy: 0.7620999813079834\n",
      "Accuracy: 76.21%\n"
     ]
    }
   ],
   "source": [
    "loss, acc = model.evaluate(X_test, np.array(y_test))\n",
    "\n",
    "print('Test score:', loss)\n",
    "print('Test accuracy:', acc)\n",
    "print(\"Accuracy: %.2f%%\" % (acc*100))"
   ]
  },
  {
   "cell_type": "markdown",
   "metadata": {
    "id": "nNzV1GBHGxat"
   },
   "source": [
    "***The single LSTM model is slightly better than the bidirectional model on the current dataset. But both models are are not performing very good.***"
   ]
  },
  {
   "cell_type": "markdown",
   "metadata": {
    "id": "f-jdlf94g33f"
   },
   "source": [
    "## Predictions"
   ]
  },
  {
   "cell_type": "code",
   "execution_count": 151,
   "metadata": {
    "id": "ctUe6hJ5aIy4"
   },
   "outputs": [],
   "source": [
    "tokenizer = get_tokenizer(french_sentences)\n",
    "\n",
    "def predict(sentences, model):\n",
    "    sentences = preprocess_french(sentences)\n",
    "    sequences = tokenizer.texts_to_sequences(sentences)\n",
    "    ## Text padding\n",
    "    pad_input_sequences = pad_sequences(sequences, maxlen=X_train.shape[1], padding='post') \n",
    "    classes = model.predict(np.array(pad_input_sequences))\n",
    "\n",
    "    result = {}\n",
    "\n",
    "    for i in range(len(sentences)): \n",
    "        result[sentences[i]]=int(classes[i][0] >= 0.5)\n",
    "    return result\n"
   ]
  },
  {
   "cell_type": "code",
   "execution_count": 162,
   "metadata": {
    "colab": {
     "base_uri": "https://localhost:8080/"
    },
    "id": "50Qh7GwVaI7t",
    "outputId": "bcae5b57-b0d1-49d8-89ff-d4059d0258d0"
   },
   "outputs": [
    {
     "name": "stdout",
     "output_type": "stream",
     "text": [
      "1/1 [==============================] - 0s 403ms/step\n"
     ]
    },
    {
     "data": {
      "text/plain": [
       "{'aime faisons effroir autre semaine week end prochain k': 1,\n",
       " 'réveillé meilleur courriel histoire emails bonne journée': 1,\n",
       " 'omgah difficile dormir peux faire simulation merci trop': 0,\n",
       " 'guitares joueurs personnes faisant percussions improvisation objets cuisine heures musique bilingues grande fête autre part': 1,\n",
       " 'être edison comme être retour école secondaire manque ucf': 0,\n",
       " 'peux dormir nettoyer place': 0,\n",
       " 'ça accrochez là bas collines affaires': 1,\n",
       " 'installés jeu football génial victorieux trouver frustrations place': 1,\n",
       " 'sais stupide bonne chance leçons apprises': 1,\n",
       " 'heureux voir autre maman merci suivi': 1,\n",
       " 'paix nez froids humides apetites voraces quot': 0,\n",
       " 'souffre manquer petit déjeuner peut penser rien autre nourriture': 0,\n",
       " 'beaucoup gens connais aussi toujours public gens regardent alors parle effrayant': 1,\n",
       " 'omg mère vient appeler trop tard parti': 0,\n",
       " 'aller aventure emily sam drink': 1,\n",
       " 'vient retirer bijoux nombril toute dernière fois': 0,\n",
       " 'oui fait trop chaud nager ici côte golfe': 1,\n",
       " 'rove tellement mignon': 1,\n",
       " 'omg tout monde endormi quelque chose': 0,\n",
       " 'point endormir encore environ heures travail gauche': 0,\n",
       " 'pense sats crème glacée gratuite chez amis': 1,\n",
       " 'non voulais masques hahaha': 0,\n",
       " 'essayant rester cool comme degrés ici': 0,\n",
       " 'besoin mettre bébés jelly loin mangé presque tout sac': 0,\n",
       " 'comment gens aiment perdre temps veux juste aller maison passer dernière demi heure voiture ya ya': 0,\n",
       " 'obtiendrais juste promotion épique contrairement indiana jones crâne cristal laissera tomber': 0,\n",
       " 'elles tellement épiques sais sœur irait venaient proximité gt lt': 0,\n",
       " \"toujours occuper david fait shopping a trouvé beaucoup choses intéressantes ' a rien acheté\": 1,\n",
       " 'casser sans glace': 0,\n",
       " 'essayé aller dormir fait trop chaud peux énerver suppose vais rester peu plus longtemps': 0}"
      ]
     },
     "execution_count": 162,
     "metadata": {},
     "output_type": "execute_result"
    }
   ],
   "source": [
    "result = predict(french_sentences[1000:1030], model)\n",
    "result"
   ]
  },
  {
   "cell_type": "code",
   "execution_count": 163,
   "metadata": {
    "colab": {
     "base_uri": "https://localhost:8080/"
    },
    "id": "zzmEAzydaJKp",
    "outputId": "aa03c996-35b5-4653-e843-9d1d7225319e"
   },
   "outputs": [
    {
     "name": "stdout",
     "output_type": "stream",
     "text": [
      "[1, 1, 0, 1, 0, 0, 1, 1, 1, 1, 1, 0, 0, 0, 1, 0, 0, 1, 1, 0, 1, 0, 0, 0, 0, 1, 0, 0, 0, 0]\n"
     ]
    }
   ],
   "source": [
    "print(labels[1000:1030])"
   ]
  },
  {
   "cell_type": "code",
   "execution_count": 164,
   "metadata": {
    "colab": {
     "base_uri": "https://localhost:8080/"
    },
    "id": "AUCLxfL7DVjL",
    "outputId": "22b7e350-fd14-4b9a-fbef-9c01e9e9093e"
   },
   "outputs": [
    {
     "data": {
      "text/plain": [
       "dict_values([1, 1, 0, 1, 0, 0, 1, 1, 1, 1, 0, 0, 1, 0, 1, 0, 1, 1, 0, 0, 1, 0, 0, 0, 0, 0, 0, 1, 0, 0])"
      ]
     },
     "execution_count": 164,
     "metadata": {},
     "output_type": "execute_result"
    }
   ],
   "source": [
    "result.values()"
   ]
  },
  {
   "cell_type": "markdown",
   "metadata": {
    "id": "c9bhaqC8H2xT"
   },
   "source": [
    "## Conclusion"
   ]
  },
  {
   "cell_type": "markdown",
   "metadata": {
    "id": "bJkBdJ4SLz2l"
   },
   "source": [
    "The final model (single LSTM) generalizes good as the accuracy on train set is around 77.7% and the accurace on test set is around 76.5%. There is no overfitting. However this score is not very high. An improvement could be achieved using attention model."
   ]
  }
 ],
 "metadata": {
  "accelerator": "GPU",
  "colab": {
   "collapsed_sections": [],
   "provenance": []
  },
  "gpuClass": "premium",
  "kernelspec": {
   "display_name": "Python 3",
   "language": "python",
   "name": "python3"
  },
  "language_info": {
   "codemirror_mode": {
    "name": "ipython",
    "version": 3
   },
   "file_extension": ".py",
   "mimetype": "text/x-python",
   "name": "python",
   "nbconvert_exporter": "python",
   "pygments_lexer": "ipython3",
   "version": "3.8.10"
  }
 },
 "nbformat": 4,
 "nbformat_minor": 1
}
